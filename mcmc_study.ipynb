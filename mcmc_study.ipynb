{
 "cells": [
  {
   "cell_type": "markdown",
   "id": "8f8ebf59",
   "metadata": {},
   "source": [
    "## Imports"
   ]
  },
  {
   "cell_type": "code",
   "execution_count": 1,
   "id": "7481a3cd",
   "metadata": {},
   "outputs": [],
   "source": [
    "import matplotlib.pyplot as plt\n",
    "import numpy as np\n",
    "import pandas as pd\n",
    "\n",
    "from implementations.mcmc_l1 import sample"
   ]
  },
  {
   "cell_type": "code",
   "execution_count": 2,
   "id": "10700fc2",
   "metadata": {},
   "outputs": [],
   "source": [
    "RANDOM_SEED = 2022\n",
    "rng = np.random.default_rng(RANDOM_SEED)"
   ]
  },
  {
   "cell_type": "markdown",
   "id": "8212ca39",
   "metadata": {},
   "source": [
    "## Data loading"
   ]
  },
  {
   "cell_type": "code",
   "execution_count": 3,
   "id": "9b4b4286",
   "metadata": {},
   "outputs": [
    {
     "data": {
      "text/html": [
       "<div>\n",
       "<style scoped>\n",
       "    .dataframe tbody tr th:only-of-type {\n",
       "        vertical-align: middle;\n",
       "    }\n",
       "\n",
       "    .dataframe tbody tr th {\n",
       "        vertical-align: top;\n",
       "    }\n",
       "\n",
       "    .dataframe thead th {\n",
       "        text-align: right;\n",
       "    }\n",
       "</style>\n",
       "<table border=\"1\" class=\"dataframe\">\n",
       "  <thead>\n",
       "    <tr style=\"text-align: right;\">\n",
       "      <th></th>\n",
       "      <th>intercept</th>\n",
       "      <th>word_freq_make</th>\n",
       "      <th>word_freq_address</th>\n",
       "      <th>word_freq_all</th>\n",
       "      <th>word_freq_3d</th>\n",
       "      <th>word_freq_our</th>\n",
       "      <th>word_freq_over</th>\n",
       "      <th>word_freq_remove</th>\n",
       "      <th>word_freq_internet</th>\n",
       "      <th>word_freq_order</th>\n",
       "      <th>...</th>\n",
       "      <th>char_freq_;</th>\n",
       "      <th>char_freq_(</th>\n",
       "      <th>char_freq_[</th>\n",
       "      <th>char_freq_!</th>\n",
       "      <th>char_freq_$</th>\n",
       "      <th>char_freq_#</th>\n",
       "      <th>capital_run_length_average</th>\n",
       "      <th>capital_run_length_longest</th>\n",
       "      <th>capital_run_length_total</th>\n",
       "      <th>class</th>\n",
       "    </tr>\n",
       "  </thead>\n",
       "  <tbody>\n",
       "    <tr>\n",
       "      <th>2640</th>\n",
       "      <td>1</td>\n",
       "      <td>0.0</td>\n",
       "      <td>0.39</td>\n",
       "      <td>0.19</td>\n",
       "      <td>0.0</td>\n",
       "      <td>0.19</td>\n",
       "      <td>0.09</td>\n",
       "      <td>0.0</td>\n",
       "      <td>0.0</td>\n",
       "      <td>0.0</td>\n",
       "      <td>...</td>\n",
       "      <td>1.352</td>\n",
       "      <td>0.080</td>\n",
       "      <td>0.0</td>\n",
       "      <td>0.016</td>\n",
       "      <td>0.0</td>\n",
       "      <td>0.0</td>\n",
       "      <td>1.679</td>\n",
       "      <td>17</td>\n",
       "      <td>178</td>\n",
       "      <td>-1</td>\n",
       "    </tr>\n",
       "    <tr>\n",
       "      <th>4468</th>\n",
       "      <td>1</td>\n",
       "      <td>0.0</td>\n",
       "      <td>0.00</td>\n",
       "      <td>0.00</td>\n",
       "      <td>0.0</td>\n",
       "      <td>0.00</td>\n",
       "      <td>0.00</td>\n",
       "      <td>0.0</td>\n",
       "      <td>0.0</td>\n",
       "      <td>0.0</td>\n",
       "      <td>...</td>\n",
       "      <td>0.000</td>\n",
       "      <td>0.554</td>\n",
       "      <td>0.0</td>\n",
       "      <td>0.000</td>\n",
       "      <td>0.0</td>\n",
       "      <td>0.0</td>\n",
       "      <td>2.294</td>\n",
       "      <td>15</td>\n",
       "      <td>39</td>\n",
       "      <td>-1</td>\n",
       "    </tr>\n",
       "    <tr>\n",
       "      <th>4147</th>\n",
       "      <td>1</td>\n",
       "      <td>0.0</td>\n",
       "      <td>0.00</td>\n",
       "      <td>0.00</td>\n",
       "      <td>0.0</td>\n",
       "      <td>0.00</td>\n",
       "      <td>0.00</td>\n",
       "      <td>0.0</td>\n",
       "      <td>0.0</td>\n",
       "      <td>0.0</td>\n",
       "      <td>...</td>\n",
       "      <td>0.000</td>\n",
       "      <td>2.263</td>\n",
       "      <td>0.0</td>\n",
       "      <td>0.000</td>\n",
       "      <td>0.0</td>\n",
       "      <td>0.0</td>\n",
       "      <td>3.149</td>\n",
       "      <td>9</td>\n",
       "      <td>1310</td>\n",
       "      <td>-1</td>\n",
       "    </tr>\n",
       "    <tr>\n",
       "      <th>3906</th>\n",
       "      <td>1</td>\n",
       "      <td>2.0</td>\n",
       "      <td>0.00</td>\n",
       "      <td>0.00</td>\n",
       "      <td>0.0</td>\n",
       "      <td>0.00</td>\n",
       "      <td>0.00</td>\n",
       "      <td>0.0</td>\n",
       "      <td>0.0</td>\n",
       "      <td>0.0</td>\n",
       "      <td>...</td>\n",
       "      <td>0.000</td>\n",
       "      <td>0.000</td>\n",
       "      <td>0.0</td>\n",
       "      <td>0.000</td>\n",
       "      <td>0.0</td>\n",
       "      <td>0.0</td>\n",
       "      <td>5.888</td>\n",
       "      <td>29</td>\n",
       "      <td>53</td>\n",
       "      <td>-1</td>\n",
       "    </tr>\n",
       "    <tr>\n",
       "      <th>3077</th>\n",
       "      <td>1</td>\n",
       "      <td>0.0</td>\n",
       "      <td>0.00</td>\n",
       "      <td>0.00</td>\n",
       "      <td>0.0</td>\n",
       "      <td>0.00</td>\n",
       "      <td>0.00</td>\n",
       "      <td>0.0</td>\n",
       "      <td>0.0</td>\n",
       "      <td>0.0</td>\n",
       "      <td>...</td>\n",
       "      <td>0.000</td>\n",
       "      <td>0.220</td>\n",
       "      <td>0.0</td>\n",
       "      <td>0.000</td>\n",
       "      <td>0.0</td>\n",
       "      <td>0.0</td>\n",
       "      <td>2.000</td>\n",
       "      <td>12</td>\n",
       "      <td>34</td>\n",
       "      <td>-1</td>\n",
       "    </tr>\n",
       "  </tbody>\n",
       "</table>\n",
       "<p>5 rows × 59 columns</p>\n",
       "</div>"
      ],
      "text/plain": [
       "      intercept  word_freq_make  word_freq_address  word_freq_all  \\\n",
       "2640          1             0.0               0.39           0.19   \n",
       "4468          1             0.0               0.00           0.00   \n",
       "4147          1             0.0               0.00           0.00   \n",
       "3906          1             2.0               0.00           0.00   \n",
       "3077          1             0.0               0.00           0.00   \n",
       "\n",
       "      word_freq_3d  word_freq_our  word_freq_over  word_freq_remove  \\\n",
       "2640           0.0           0.19            0.09               0.0   \n",
       "4468           0.0           0.00            0.00               0.0   \n",
       "4147           0.0           0.00            0.00               0.0   \n",
       "3906           0.0           0.00            0.00               0.0   \n",
       "3077           0.0           0.00            0.00               0.0   \n",
       "\n",
       "      word_freq_internet  word_freq_order  ...  char_freq_;  char_freq_(  \\\n",
       "2640                 0.0              0.0  ...        1.352        0.080   \n",
       "4468                 0.0              0.0  ...        0.000        0.554   \n",
       "4147                 0.0              0.0  ...        0.000        2.263   \n",
       "3906                 0.0              0.0  ...        0.000        0.000   \n",
       "3077                 0.0              0.0  ...        0.000        0.220   \n",
       "\n",
       "      char_freq_[  char_freq_!  char_freq_$  char_freq_#  \\\n",
       "2640          0.0        0.016          0.0          0.0   \n",
       "4468          0.0        0.000          0.0          0.0   \n",
       "4147          0.0        0.000          0.0          0.0   \n",
       "3906          0.0        0.000          0.0          0.0   \n",
       "3077          0.0        0.000          0.0          0.0   \n",
       "\n",
       "      capital_run_length_average  capital_run_length_longest  \\\n",
       "2640                       1.679                          17   \n",
       "4468                       2.294                          15   \n",
       "4147                       3.149                           9   \n",
       "3906                       5.888                          29   \n",
       "3077                       2.000                          12   \n",
       "\n",
       "      capital_run_length_total  class  \n",
       "2640                       178     -1  \n",
       "4468                        39     -1  \n",
       "4147                      1310     -1  \n",
       "3906                        53     -1  \n",
       "3077                        34     -1  \n",
       "\n",
       "[5 rows x 59 columns]"
      ]
     },
     "execution_count": 3,
     "metadata": {},
     "output_type": "execute_result"
    }
   ],
   "source": [
    "f = open(\"./data/spambase.columns\", \"r\")\n",
    "headers = [line.split(\":\")[0] for line in f]+[\"class\"]\n",
    "\n",
    "df = pd.read_csv(\"./data/spambase.data\", header=None) \n",
    "df.columns = headers\n",
    "df.insert(0, \"intercept\", 1)\n",
    "df[\"class\"] = df[\"class\"].replace(0,-1)\n",
    "\n",
    "df.sample(5)"
   ]
  },
  {
   "cell_type": "code",
   "execution_count": 4,
   "id": "8499df2f-84a2-4c51-a222-0ab8b17c6fcf",
   "metadata": {},
   "outputs": [],
   "source": [
    "# Compute X by multiplying each row by the class\n",
    "X = np.array(df.drop('class', axis=1)) * np.array(df[\"class\"]).reshape(-1,1)"
   ]
  },
  {
   "cell_type": "code",
   "execution_count": 5,
   "id": "7ce9073f-d1a5-4a29-97b3-e1290a5ad0c1",
   "metadata": {},
   "outputs": [
    {
     "data": {
      "text/plain": [
       "(4601, 58)"
      ]
     },
     "execution_count": 5,
     "metadata": {},
     "output_type": "execute_result"
    }
   ],
   "source": [
    "# Number of samples and of dimensions\n",
    "n, k = X.shape\n",
    "n, k"
   ]
  },
  {
   "cell_type": "code",
   "execution_count": 6,
   "id": "6df49c5f-7b20-4f96-8f4d-fbf8bc3d8493",
   "metadata": {},
   "outputs": [
    {
     "data": {
      "text/plain": [
       "(58,)"
      ]
     },
     "execution_count": 6,
     "metadata": {},
     "output_type": "execute_result"
    }
   ],
   "source": [
    "# Compute variance matrix\n",
    "sigma = df.drop('class', axis=1).std(axis=0)\n",
    "sigma[0] = 1\n",
    "sigma.shape"
   ]
  },
  {
   "cell_type": "markdown",
   "id": "b0234874",
   "metadata": {},
   "source": [
    "## Study"
   ]
  },
  {
   "cell_type": "code",
   "execution_count": 7,
   "id": "a9589c0b",
   "metadata": {},
   "outputs": [],
   "source": [
    "n_chains = 3\n",
    "T = 100\n",
    "n_start = 20 # burn in"
   ]
  },
  {
   "cell_type": "code",
   "execution_count": 8,
   "id": "f058e66e-6bc9-4998-9a03-7ce18f51c63b",
   "metadata": {
    "scrolled": true
   },
   "outputs": [
    {
     "name": "stderr",
     "output_type": "stream",
     "text": [
      "/home/mark/m2ds/bml/bml-project/implementations/mcmc_l1.py:61: RuntimeWarning: covariance is not positive-semidefinite.\n",
      "  betas[t][omegas_idx] = rng.multivariate_normal(b, cov=B)\n"
     ]
    }
   ],
   "source": [
    "nu = 1\n",
    "\n",
    "betas1 = np.zeros((T,k))\n",
    "\n",
    "for _ in range(n_chains):\n",
    "    betas1 += sample(X, sigma, rng, nu, T)\n",
    "\n",
    "betas1 /= n_chains\n",
    "betas1 = betas1[n_start:]\n",
    "std_betas1 = betas1.mean(axis=0)*sigma"
   ]
  },
  {
   "cell_type": "code",
   "execution_count": 9,
   "id": "d60c1627-bf3b-43d1-9312-f3ba60a5ba4f",
   "metadata": {},
   "outputs": [],
   "source": [
    "nu = 1e-3\n",
    "\n",
    "betas2 = np.zeros((T,k))\n",
    "\n",
    "for _ in range(n_chains):\n",
    "    betas2 += sample(X, sigma, rng, nu, T)\n",
    "\n",
    "betas2 /= n_chains\n",
    "betas2 = betas2[n_start:]\n",
    "std_betas2 = betas2.mean(axis=0)*sigma"
   ]
  },
  {
   "cell_type": "code",
   "execution_count": 10,
   "id": "5e3662e9",
   "metadata": {},
   "outputs": [],
   "source": [
    "lower_bound1 = np.quantile(betas1, 0.025, axis = 0)\n",
    "lower_bound2 = np.quantile(betas2, 0.025, axis = 0)\n",
    "\n",
    "upper_bound1 = np.quantile(betas1, 1-0.025, axis = 0)\n",
    "upper_bound2 = np.quantile(betas2, 1-0.025, axis = 0)\n",
    "\n",
    "err1 = upper_bound1-lower_bound1\n",
    "err2 = upper_bound2-lower_bound2"
   ]
  },
  {
   "cell_type": "code",
   "execution_count": 11,
   "id": "5c836afe",
   "metadata": {},
   "outputs": [
    {
     "data": {
      "image/png": "[encoded data removed]",
      "text/plain": [
       "<Figure size 1152x432 with 1 Axes>"
      ]
     },
     "metadata": {
      "needs_background": "light"
     },
     "output_type": "display_data"
    }
   ],
   "source": [
    "x = np.arange(k)\n",
    "width = 0.35\n",
    "\n",
    "fig, ax = plt.subplots(figsize=(16, 6))\n",
    "bar1 = ax.bar(x - width / 2, std_betas1, width, label='beta1', alpha=.7, yerr=err1, capsize=2, color=\"cyan\")\n",
    "bar2 = ax.bar(x + width / 2, std_betas2, width, label='beta2', alpha=.7, yerr=err2, capsize=2, color=\"orange\")\n",
    "\n",
    "ax.set_xticks(x)\n",
    "ax.set_xticklabels(df.columns[:-1], fontsize=8)\n",
    "\n",
    "plt.xticks(rotation=90)\n",
    "# plt.yscale(\"log\")\n",
    "plt.legend()\n",
    "plt.show()"
   ]
  }
 ],
 "metadata": {
  "kernelspec": {
   "display_name": "Python 3 (ipykernel)",
   "language": "python",
   "name": "python3"
  },
  "language_info": {
   "codemirror_mode": {
    "name": "ipython",
    "version": 3
   },
   "file_extension": ".py",
   "mimetype": "text/x-python",
   "name": "python",
   "nbconvert_exporter": "python",
   "pygments_lexer": "ipython3",
   "version": "3.8.12"
  }
 },
 "nbformat": 4,
 "nbformat_minor": 5
}
