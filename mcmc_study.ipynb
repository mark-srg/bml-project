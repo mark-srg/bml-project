{
 "cells": [
  {
   "cell_type": "markdown",
   "id": "b5f9d931-97a8-428d-9600-981fcafc6a92",
   "metadata": {},
   "source": [
    "## Studying the MCMC algorithms (mean, credible intervals)"
   ]
  },
  {
   "cell_type": "code",
   "execution_count": null,
   "id": "0982904c-134c-47c5-9f77-6bec029c63ea",
   "metadata": {},
   "outputs": [],
   "source": [
    "# TO COMPLETE"
   ]
  }
 ],
 "metadata": {
  "kernelspec": {
   "display_name": "Python 3 (ipykernel)",
   "language": "python",
   "name": "python3"
  },
  "language_info": {
   "codemirror_mode": {
    "name": "ipython",
    "version": 3
   },
   "file_extension": ".py",
   "mimetype": "text/x-python",
   "name": "python",
   "nbconvert_exporter": "python",
   "pygments_lexer": "ipython3",
   "version": "3.8.12"
  }
 },
 "nbformat": 4,
 "nbformat_minor": 5
}
