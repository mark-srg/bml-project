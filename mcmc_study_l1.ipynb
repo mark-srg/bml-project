{
 "cells": [
  {
   "cell_type": "markdown",
   "id": "8f8ebf59",
   "metadata": {},
   "source": [
    "## Studying the MCMC with $L^1$ regularization\n",
    "\n",
    "#### Imports"
   ]
  },
  {
   "cell_type": "code",
   "execution_count": 1,
   "id": "7481a3cd",
   "metadata": {},
   "outputs": [],
   "source": [
    "import matplotlib.pyplot as plt\n",
    "import numpy as np\n",
    "import pandas as pd\n",
    "\n",
    "from implementations.mcmc_l1 import sample"
   ]
  },
  {
   "cell_type": "code",
   "execution_count": 2,
   "id": "10700fc2",
   "metadata": {},
   "outputs": [],
   "source": [
    "RANDOM_SEED = 2022\n",
    "rng = np.random.default_rng(RANDOM_SEED)"
   ]
  },
  {
   "cell_type": "code",
   "execution_count": 3,
   "id": "186d231c",
   "metadata": {},
   "outputs": [],
   "source": [
    "import arviz as az\n",
    "%config InlineBackend.figure_format = 'retina'\n",
    "az.style.use(\"arviz-darkgrid\")"
   ]
  },
  {
   "cell_type": "markdown",
   "id": "8212ca39",
   "metadata": {},
   "source": [
    "#### Loading the data"
   ]
  },
  {
   "cell_type": "code",
   "execution_count": 4,
   "id": "9b4b4286",
   "metadata": {},
   "outputs": [
    {
     "data": {
      "text/html": [
       "<div>\n",
       "<style scoped>\n",
       "    .dataframe tbody tr th:only-of-type {\n",
       "        vertical-align: middle;\n",
       "    }\n",
       "\n",
       "    .dataframe tbody tr th {\n",
       "        vertical-align: top;\n",
       "    }\n",
       "\n",
       "    .dataframe thead th {\n",
       "        text-align: right;\n",
       "    }\n",
       "</style>\n",
       "<table border=\"1\" class=\"dataframe\">\n",
       "  <thead>\n",
       "    <tr style=\"text-align: right;\">\n",
       "      <th></th>\n",
       "      <th>intercept</th>\n",
       "      <th>word_freq_make</th>\n",
       "      <th>word_freq_address</th>\n",
       "      <th>word_freq_all</th>\n",
       "      <th>word_freq_3d</th>\n",
       "      <th>word_freq_our</th>\n",
       "      <th>word_freq_over</th>\n",
       "      <th>word_freq_remove</th>\n",
       "      <th>word_freq_internet</th>\n",
       "      <th>word_freq_order</th>\n",
       "      <th>...</th>\n",
       "      <th>char_freq_;</th>\n",
       "      <th>char_freq_(</th>\n",
       "      <th>char_freq_[</th>\n",
       "      <th>char_freq_!</th>\n",
       "      <th>char_freq_$</th>\n",
       "      <th>char_freq_#</th>\n",
       "      <th>capital_run_length_average</th>\n",
       "      <th>capital_run_length_longest</th>\n",
       "      <th>capital_run_length_total</th>\n",
       "      <th>class</th>\n",
       "    </tr>\n",
       "  </thead>\n",
       "  <tbody>\n",
       "    <tr>\n",
       "      <th>2533</th>\n",
       "      <td>1</td>\n",
       "      <td>0.00</td>\n",
       "      <td>0.00</td>\n",
       "      <td>0.00</td>\n",
       "      <td>0.0</td>\n",
       "      <td>0.00</td>\n",
       "      <td>0.0</td>\n",
       "      <td>0.00</td>\n",
       "      <td>0.0</td>\n",
       "      <td>0.0</td>\n",
       "      <td>...</td>\n",
       "      <td>0.0</td>\n",
       "      <td>0.000</td>\n",
       "      <td>0.0</td>\n",
       "      <td>0.000</td>\n",
       "      <td>0.000</td>\n",
       "      <td>0.0</td>\n",
       "      <td>4.791</td>\n",
       "      <td>71</td>\n",
       "      <td>115</td>\n",
       "      <td>-1</td>\n",
       "    </tr>\n",
       "    <tr>\n",
       "      <th>4235</th>\n",
       "      <td>1</td>\n",
       "      <td>0.00</td>\n",
       "      <td>0.00</td>\n",
       "      <td>0.00</td>\n",
       "      <td>0.0</td>\n",
       "      <td>0.00</td>\n",
       "      <td>0.0</td>\n",
       "      <td>0.00</td>\n",
       "      <td>0.0</td>\n",
       "      <td>0.0</td>\n",
       "      <td>...</td>\n",
       "      <td>0.0</td>\n",
       "      <td>0.478</td>\n",
       "      <td>0.0</td>\n",
       "      <td>0.000</td>\n",
       "      <td>0.000</td>\n",
       "      <td>0.0</td>\n",
       "      <td>1.333</td>\n",
       "      <td>4</td>\n",
       "      <td>28</td>\n",
       "      <td>-1</td>\n",
       "    </tr>\n",
       "    <tr>\n",
       "      <th>471</th>\n",
       "      <td>1</td>\n",
       "      <td>0.00</td>\n",
       "      <td>0.00</td>\n",
       "      <td>0.00</td>\n",
       "      <td>0.0</td>\n",
       "      <td>0.00</td>\n",
       "      <td>0.0</td>\n",
       "      <td>0.00</td>\n",
       "      <td>0.0</td>\n",
       "      <td>0.0</td>\n",
       "      <td>...</td>\n",
       "      <td>0.0</td>\n",
       "      <td>0.000</td>\n",
       "      <td>0.0</td>\n",
       "      <td>1.081</td>\n",
       "      <td>0.000</td>\n",
       "      <td>0.0</td>\n",
       "      <td>2.300</td>\n",
       "      <td>9</td>\n",
       "      <td>23</td>\n",
       "      <td>1</td>\n",
       "    </tr>\n",
       "    <tr>\n",
       "      <th>1794</th>\n",
       "      <td>1</td>\n",
       "      <td>0.15</td>\n",
       "      <td>0.15</td>\n",
       "      <td>0.31</td>\n",
       "      <td>0.0</td>\n",
       "      <td>0.15</td>\n",
       "      <td>0.0</td>\n",
       "      <td>0.46</td>\n",
       "      <td>0.0</td>\n",
       "      <td>0.0</td>\n",
       "      <td>...</td>\n",
       "      <td>0.0</td>\n",
       "      <td>0.092</td>\n",
       "      <td>0.0</td>\n",
       "      <td>0.123</td>\n",
       "      <td>0.000</td>\n",
       "      <td>0.0</td>\n",
       "      <td>6.268</td>\n",
       "      <td>196</td>\n",
       "      <td>608</td>\n",
       "      <td>1</td>\n",
       "    </tr>\n",
       "    <tr>\n",
       "      <th>212</th>\n",
       "      <td>1</td>\n",
       "      <td>0.00</td>\n",
       "      <td>0.00</td>\n",
       "      <td>0.00</td>\n",
       "      <td>0.0</td>\n",
       "      <td>0.00</td>\n",
       "      <td>0.0</td>\n",
       "      <td>1.33</td>\n",
       "      <td>0.0</td>\n",
       "      <td>0.0</td>\n",
       "      <td>...</td>\n",
       "      <td>0.0</td>\n",
       "      <td>0.000</td>\n",
       "      <td>0.0</td>\n",
       "      <td>0.202</td>\n",
       "      <td>1.417</td>\n",
       "      <td>0.0</td>\n",
       "      <td>29.125</td>\n",
       "      <td>223</td>\n",
       "      <td>233</td>\n",
       "      <td>1</td>\n",
       "    </tr>\n",
       "  </tbody>\n",
       "</table>\n",
       "<p>5 rows × 59 columns</p>\n",
       "</div>"
      ],
      "text/plain": [
       "      intercept  word_freq_make  word_freq_address  word_freq_all  \\\n",
       "2533          1            0.00               0.00           0.00   \n",
       "4235          1            0.00               0.00           0.00   \n",
       "471           1            0.00               0.00           0.00   \n",
       "1794          1            0.15               0.15           0.31   \n",
       "212           1            0.00               0.00           0.00   \n",
       "\n",
       "      word_freq_3d  word_freq_our  word_freq_over  word_freq_remove  \\\n",
       "2533           0.0           0.00             0.0              0.00   \n",
       "4235           0.0           0.00             0.0              0.00   \n",
       "471            0.0           0.00             0.0              0.00   \n",
       "1794           0.0           0.15             0.0              0.46   \n",
       "212            0.0           0.00             0.0              1.33   \n",
       "\n",
       "      word_freq_internet  word_freq_order  ...  char_freq_;  char_freq_(  \\\n",
       "2533                 0.0              0.0  ...          0.0        0.000   \n",
       "4235                 0.0              0.0  ...          0.0        0.478   \n",
       "471                  0.0              0.0  ...          0.0        0.000   \n",
       "1794                 0.0              0.0  ...          0.0        0.092   \n",
       "212                  0.0              0.0  ...          0.0        0.000   \n",
       "\n",
       "      char_freq_[  char_freq_!  char_freq_$  char_freq_#  \\\n",
       "2533          0.0        0.000        0.000          0.0   \n",
       "4235          0.0        0.000        0.000          0.0   \n",
       "471           0.0        1.081        0.000          0.0   \n",
       "1794          0.0        0.123        0.000          0.0   \n",
       "212           0.0        0.202        1.417          0.0   \n",
       "\n",
       "      capital_run_length_average  capital_run_length_longest  \\\n",
       "2533                       4.791                          71   \n",
       "4235                       1.333                           4   \n",
       "471                        2.300                           9   \n",
       "1794                       6.268                         196   \n",
       "212                       29.125                         223   \n",
       "\n",
       "      capital_run_length_total  class  \n",
       "2533                       115     -1  \n",
       "4235                        28     -1  \n",
       "471                         23      1  \n",
       "1794                       608      1  \n",
       "212                        233      1  \n",
       "\n",
       "[5 rows x 59 columns]"
      ]
     },
     "execution_count": 4,
     "metadata": {},
     "output_type": "execute_result"
    }
   ],
   "source": [
    "f = open(\"./data/spambase.columns\", \"r\")\n",
    "headers = [line.split(\":\")[0] for line in f]+[\"class\"]\n",
    "\n",
    "df = pd.read_csv(\"./data/spambase.data\", header=None) \n",
    "df.columns = headers\n",
    "df.insert(0, \"intercept\", 1)\n",
    "df[\"class\"] = df[\"class\"].replace(0,-1)\n",
    "\n",
    "df.sample(5)"
   ]
  },
  {
   "cell_type": "code",
   "execution_count": 5,
   "id": "8499df2f-84a2-4c51-a222-0ab8b17c6fcf",
   "metadata": {},
   "outputs": [],
   "source": [
    "# Compute X by multiplying each row by the class\n",
    "X = np.array(df.drop('class', axis=1)) * np.array(df[\"class\"]).reshape(-1,1)"
   ]
  },
  {
   "cell_type": "code",
   "execution_count": 6,
   "id": "7ce9073f-d1a5-4a29-97b3-e1290a5ad0c1",
   "metadata": {},
   "outputs": [
    {
     "data": {
      "text/plain": [
       "(4601, 58)"
      ]
     },
     "execution_count": 6,
     "metadata": {},
     "output_type": "execute_result"
    }
   ],
   "source": [
    "# Number of samples and of dimensions\n",
    "n, k = X.shape\n",
    "n, k"
   ]
  },
  {
   "cell_type": "code",
   "execution_count": 7,
   "id": "6df49c5f-7b20-4f96-8f4d-fbf8bc3d8493",
   "metadata": {},
   "outputs": [
    {
     "data": {
      "text/plain": [
       "(58,)"
      ]
     },
     "execution_count": 7,
     "metadata": {},
     "output_type": "execute_result"
    }
   ],
   "source": [
    "# Compute variance matrix\n",
    "sigma = df.drop('class', axis=1).std(axis=0)\n",
    "sigma[0] = 1\n",
    "sigma.shape"
   ]
  },
  {
   "cell_type": "markdown",
   "id": "8729b45e",
   "metadata": {},
   "source": [
    "#### Sampling"
   ]
  },
  {
   "cell_type": "code",
   "execution_count": 8,
   "id": "a9589c0b",
   "metadata": {},
   "outputs": [],
   "source": [
    "n_chains = 2 # number of chains\n",
    "T = 2000 # number of iterations\n",
    "n_start = 200 # burn in"
   ]
  },
  {
   "cell_type": "markdown",
   "id": "1b7042f5",
   "metadata": {},
   "source": [
    "We now draw samples with our `sample` function, that implements the authors' algorithm from section 4.1 of the paper."
   ]
  },
  {
   "cell_type": "code",
   "execution_count": null,
   "id": "5a5a722a",
   "metadata": {},
   "outputs": [],
   "source": [
    "nu = 1\n",
    "betas1 = np.zeros((n_chains,T,k))\n",
    "for i in range(n_chains):\n",
    "    betas1[i] = sample(X, sigma, rng, nu, T)\n",
    "\n",
    "nu = 1e-3\n",
    "betas2 = np.zeros((n_chains,T,k))\n",
    "for i in range(n_chains):\n",
    "    betas2[i] = sample(X, sigma, rng, nu, T)"
   ]
  },
  {
   "cell_type": "markdown",
   "id": "7474159f",
   "metadata": {},
   "source": [
    "####  Sparsity of the coefficients"
   ]
  },
  {
   "cell_type": "markdown",
   "id": "6b6426f7",
   "metadata": {},
   "source": [
    "For each coefficient of $\\beta$, we chose to average the results from all chains and for all time steps after a burn-in period of length `n_start`. We then plot the standardized value of $\\beta$, as advised in the paper."
   ]
  },
  {
   "cell_type": "code",
   "execution_count": null,
   "id": "f058e66e-6bc9-4998-9a03-7ce18f51c63b",
   "metadata": {},
   "outputs": [],
   "source": [
    "betas1_mean_chain = betas1.mean(axis=0)/n_chains\n",
    "std_betas1 = betas1_mean_chain[n_start:].mean(axis=0)*sigma\n",
    "\n",
    "betas2_mean_chain = betas2.mean(axis=0)/n_chains\n",
    "std_betas2 = betas2_mean_chain[n_start:].mean(axis=0)*sigma"
   ]
  },
  {
   "cell_type": "markdown",
   "id": "69e91e65",
   "metadata": {},
   "source": [
    "We can also compute an empirical quantile interval for $\\beta$, at level 95%."
   ]
  },
  {
   "cell_type": "code",
   "execution_count": null,
   "id": "5e3662e9",
   "metadata": {},
   "outputs": [],
   "source": [
    "lower_bound1 = np.quantile(betas1_mean_chain, 0.025, axis = 0)\n",
    "lower_bound2 = np.quantile(betas2_mean_chain, 0.025, axis = 0)\n",
    "\n",
    "upper_bound1 = np.quantile(betas1_mean_chain, 1-0.025, axis = 0)\n",
    "upper_bound2 = np.quantile(betas2_mean_chain, 1-0.025, axis = 0)\n",
    "\n",
    "err1 = upper_bound1-lower_bound1\n",
    "err2 = upper_bound2-lower_bound2"
   ]
  },
  {
   "cell_type": "markdown",
   "id": "5992a4b0",
   "metadata": {},
   "source": [
    "We summarize the results in the following plot:"
   ]
  },
  {
   "cell_type": "code",
   "execution_count": null,
   "id": "5c836afe",
   "metadata": {},
   "outputs": [],
   "source": [
    "x = np.arange(k)\n",
    "width = 0.35\n",
    "\n",
    "fig, ax = plt.subplots(figsize=(16, 6))\n",
    "bar1 = ax.bar(x - width / 2, std_betas1, width, label='$ν = 1$', alpha=.7, yerr=err1, capsize=2, color=\"cyan\")\n",
    "bar2 = ax.bar(x + width / 2, std_betas2, width, label='$ν = 10^{-3}$', alpha=.7, yerr=err2, capsize=2, color=\"orange\")\n",
    "\n",
    "ax.set_xticks(x)\n",
    "ticks = df.columns[:-1]\n",
    "ax.set_xticklabels(ticks, fontsize=8)\n",
    "\n",
    "plt.xticks(rotation=90)\n",
    "#plt.yscale(\"log\")\n",
    "plt.legend()\n",
    "plt.show()"
   ]
  },
  {
   "cell_type": "markdown",
   "id": "ce26b003",
   "metadata": {},
   "source": [
    "#### Convergence of the chains"
   ]
  },
  {
   "cell_type": "code",
   "execution_count": null,
   "id": "b6146644",
   "metadata": {},
   "outputs": [],
   "source": [
    "n_coeffs = 2\n",
    "coeffs = np.random.randint(k, size = n_coeffs)\n",
    "colors = [\"blue\", \"red\", \"green\"]"
   ]
  },
  {
   "cell_type": "code",
   "execution_count": null,
   "id": "388b9491",
   "metadata": {},
   "outputs": [],
   "source": [
    "print('For ν = 1')\n",
    "for coeff in coeffs:\n",
    "    for i in range(n_chains):\n",
    "        trajectory = betas1[i,n_start:,coeff]\n",
    "        plt.plot(trajectory, color = colors[i], alpha = 0.5)\n",
    "        plt.axhline(y=np.mean(trajectory), linestyle=\"--\", color = colors[i])\n",
    "    plt.title(ticks[coeff])\n",
    "    plt.show()"
   ]
  },
  {
   "cell_type": "code",
   "execution_count": null,
   "id": "e2413852",
   "metadata": {},
   "outputs": [],
   "source": [
    "print('For ν = 10^{-3}')\n",
    "for coeff in coeffs:\n",
    "    for i in range(n_chains):\n",
    "        trajectory = betas2[i,n_start:,coeff]\n",
    "        plt.plot(trajectory, color = colors[i], alpha = 0.5)\n",
    "        plt.axhline(y=np.mean(trajectory), linestyle=\"--\", color = colors[i])\n",
    "    plt.title(ticks[coeff])\n",
    "    plt.show()"
   ]
  },
  {
   "cell_type": "markdown",
   "id": "6327b730-f7ec-4118-9ccc-9f42ff97ae14",
   "metadata": {},
   "source": [
    "We can observe that the chains seem to mix pretty well according to the plots.  \n",
    "Running 10 000 iterations as the authors do would probaby be safer, but unfortunately our computers can't handle that amount of computations."
   ]
  }
 ],
 "metadata": {
  "kernelspec": {
   "display_name": "Python 3 (ipykernel)",
   "language": "python",
   "name": "python3"
  },
  "language_info": {
   "codemirror_mode": {
    "name": "ipython",
    "version": 3
   },
   "file_extension": ".py",
   "mimetype": "text/x-python",
   "name": "python",
   "nbconvert_exporter": "python",
   "pygments_lexer": "ipython3",
   "version": "3.8.12"
  }
 },
 "nbformat": 4,
 "nbformat_minor": 5
}
