{
 "cells": [
  {
   "cell_type": "markdown",
   "id": "bc4deb4d",
   "metadata": {},
   "source": [
    "## Testing the implementations of the MCMC algorithms"
   ]
  },
  {
   "cell_type": "code",
   "execution_count": 1,
   "id": "4661f5a4",
   "metadata": {},
   "outputs": [],
   "source": [
    "import matplotlib.pyplot as plt\n",
    "import numpy as np\n",
    "import pandas as pd\n",
    "import numpy as np\n",
    "from implementations import mcmc_l1, mcmc_sas"
   ]
  },
  {
   "cell_type": "code",
   "execution_count": 2,
   "id": "10700fc2",
   "metadata": {},
   "outputs": [],
   "source": [
    "RANDOM_SEED = 2022\n",
    "rng = np.random.default_rng(RANDOM_SEED)"
   ]
  },
  {
   "cell_type": "markdown",
   "id": "8212ca39",
   "metadata": {},
   "source": [
    "#### Loading the data"
   ]
  },
  {
   "cell_type": "code",
   "execution_count": 3,
   "id": "9b4b4286",
   "metadata": {},
   "outputs": [
    {
     "data": {
      "text/html": [
       "<div>\n",
       "<style scoped>\n",
       "    .dataframe tbody tr th:only-of-type {\n",
       "        vertical-align: middle;\n",
       "    }\n",
       "\n",
       "    .dataframe tbody tr th {\n",
       "        vertical-align: top;\n",
       "    }\n",
       "\n",
       "    .dataframe thead th {\n",
       "        text-align: right;\n",
       "    }\n",
       "</style>\n",
       "<table border=\"1\" class=\"dataframe\">\n",
       "  <thead>\n",
       "    <tr style=\"text-align: right;\">\n",
       "      <th></th>\n",
       "      <th>intercept</th>\n",
       "      <th>word_freq_make</th>\n",
       "      <th>word_freq_address</th>\n",
       "      <th>word_freq_all</th>\n",
       "      <th>word_freq_3d</th>\n",
       "      <th>word_freq_our</th>\n",
       "      <th>word_freq_over</th>\n",
       "      <th>word_freq_remove</th>\n",
       "      <th>word_freq_internet</th>\n",
       "      <th>word_freq_order</th>\n",
       "      <th>...</th>\n",
       "      <th>char_freq_;</th>\n",
       "      <th>char_freq_(</th>\n",
       "      <th>char_freq_[</th>\n",
       "      <th>char_freq_!</th>\n",
       "      <th>char_freq_$</th>\n",
       "      <th>char_freq_#</th>\n",
       "      <th>capital_run_length_average</th>\n",
       "      <th>capital_run_length_longest</th>\n",
       "      <th>capital_run_length_total</th>\n",
       "      <th>class</th>\n",
       "    </tr>\n",
       "  </thead>\n",
       "  <tbody>\n",
       "    <tr>\n",
       "      <th>0</th>\n",
       "      <td>1</td>\n",
       "      <td>0.00</td>\n",
       "      <td>0.64</td>\n",
       "      <td>0.64</td>\n",
       "      <td>0.0</td>\n",
       "      <td>0.32</td>\n",
       "      <td>0.00</td>\n",
       "      <td>0.00</td>\n",
       "      <td>0.00</td>\n",
       "      <td>0.00</td>\n",
       "      <td>...</td>\n",
       "      <td>0.000</td>\n",
       "      <td>0.000</td>\n",
       "      <td>0.0</td>\n",
       "      <td>0.778</td>\n",
       "      <td>0.000</td>\n",
       "      <td>0.000</td>\n",
       "      <td>3.756</td>\n",
       "      <td>61</td>\n",
       "      <td>278</td>\n",
       "      <td>1</td>\n",
       "    </tr>\n",
       "    <tr>\n",
       "      <th>1</th>\n",
       "      <td>1</td>\n",
       "      <td>0.21</td>\n",
       "      <td>0.28</td>\n",
       "      <td>0.50</td>\n",
       "      <td>0.0</td>\n",
       "      <td>0.14</td>\n",
       "      <td>0.28</td>\n",
       "      <td>0.21</td>\n",
       "      <td>0.07</td>\n",
       "      <td>0.00</td>\n",
       "      <td>...</td>\n",
       "      <td>0.000</td>\n",
       "      <td>0.132</td>\n",
       "      <td>0.0</td>\n",
       "      <td>0.372</td>\n",
       "      <td>0.180</td>\n",
       "      <td>0.048</td>\n",
       "      <td>5.114</td>\n",
       "      <td>101</td>\n",
       "      <td>1028</td>\n",
       "      <td>1</td>\n",
       "    </tr>\n",
       "    <tr>\n",
       "      <th>2</th>\n",
       "      <td>1</td>\n",
       "      <td>0.06</td>\n",
       "      <td>0.00</td>\n",
       "      <td>0.71</td>\n",
       "      <td>0.0</td>\n",
       "      <td>1.23</td>\n",
       "      <td>0.19</td>\n",
       "      <td>0.19</td>\n",
       "      <td>0.12</td>\n",
       "      <td>0.64</td>\n",
       "      <td>...</td>\n",
       "      <td>0.010</td>\n",
       "      <td>0.143</td>\n",
       "      <td>0.0</td>\n",
       "      <td>0.276</td>\n",
       "      <td>0.184</td>\n",
       "      <td>0.010</td>\n",
       "      <td>9.821</td>\n",
       "      <td>485</td>\n",
       "      <td>2259</td>\n",
       "      <td>1</td>\n",
       "    </tr>\n",
       "    <tr>\n",
       "      <th>3</th>\n",
       "      <td>1</td>\n",
       "      <td>0.00</td>\n",
       "      <td>0.00</td>\n",
       "      <td>0.00</td>\n",
       "      <td>0.0</td>\n",
       "      <td>0.63</td>\n",
       "      <td>0.00</td>\n",
       "      <td>0.31</td>\n",
       "      <td>0.63</td>\n",
       "      <td>0.31</td>\n",
       "      <td>...</td>\n",
       "      <td>0.000</td>\n",
       "      <td>0.137</td>\n",
       "      <td>0.0</td>\n",
       "      <td>0.137</td>\n",
       "      <td>0.000</td>\n",
       "      <td>0.000</td>\n",
       "      <td>3.537</td>\n",
       "      <td>40</td>\n",
       "      <td>191</td>\n",
       "      <td>1</td>\n",
       "    </tr>\n",
       "    <tr>\n",
       "      <th>4</th>\n",
       "      <td>1</td>\n",
       "      <td>0.00</td>\n",
       "      <td>0.00</td>\n",
       "      <td>0.00</td>\n",
       "      <td>0.0</td>\n",
       "      <td>0.63</td>\n",
       "      <td>0.00</td>\n",
       "      <td>0.31</td>\n",
       "      <td>0.63</td>\n",
       "      <td>0.31</td>\n",
       "      <td>...</td>\n",
       "      <td>0.000</td>\n",
       "      <td>0.135</td>\n",
       "      <td>0.0</td>\n",
       "      <td>0.135</td>\n",
       "      <td>0.000</td>\n",
       "      <td>0.000</td>\n",
       "      <td>3.537</td>\n",
       "      <td>40</td>\n",
       "      <td>191</td>\n",
       "      <td>1</td>\n",
       "    </tr>\n",
       "    <tr>\n",
       "      <th>...</th>\n",
       "      <td>...</td>\n",
       "      <td>...</td>\n",
       "      <td>...</td>\n",
       "      <td>...</td>\n",
       "      <td>...</td>\n",
       "      <td>...</td>\n",
       "      <td>...</td>\n",
       "      <td>...</td>\n",
       "      <td>...</td>\n",
       "      <td>...</td>\n",
       "      <td>...</td>\n",
       "      <td>...</td>\n",
       "      <td>...</td>\n",
       "      <td>...</td>\n",
       "      <td>...</td>\n",
       "      <td>...</td>\n",
       "      <td>...</td>\n",
       "      <td>...</td>\n",
       "      <td>...</td>\n",
       "      <td>...</td>\n",
       "      <td>...</td>\n",
       "    </tr>\n",
       "    <tr>\n",
       "      <th>4596</th>\n",
       "      <td>1</td>\n",
       "      <td>0.31</td>\n",
       "      <td>0.00</td>\n",
       "      <td>0.62</td>\n",
       "      <td>0.0</td>\n",
       "      <td>0.00</td>\n",
       "      <td>0.31</td>\n",
       "      <td>0.00</td>\n",
       "      <td>0.00</td>\n",
       "      <td>0.00</td>\n",
       "      <td>...</td>\n",
       "      <td>0.000</td>\n",
       "      <td>0.232</td>\n",
       "      <td>0.0</td>\n",
       "      <td>0.000</td>\n",
       "      <td>0.000</td>\n",
       "      <td>0.000</td>\n",
       "      <td>1.142</td>\n",
       "      <td>3</td>\n",
       "      <td>88</td>\n",
       "      <td>-1</td>\n",
       "    </tr>\n",
       "    <tr>\n",
       "      <th>4597</th>\n",
       "      <td>1</td>\n",
       "      <td>0.00</td>\n",
       "      <td>0.00</td>\n",
       "      <td>0.00</td>\n",
       "      <td>0.0</td>\n",
       "      <td>0.00</td>\n",
       "      <td>0.00</td>\n",
       "      <td>0.00</td>\n",
       "      <td>0.00</td>\n",
       "      <td>0.00</td>\n",
       "      <td>...</td>\n",
       "      <td>0.000</td>\n",
       "      <td>0.000</td>\n",
       "      <td>0.0</td>\n",
       "      <td>0.353</td>\n",
       "      <td>0.000</td>\n",
       "      <td>0.000</td>\n",
       "      <td>1.555</td>\n",
       "      <td>4</td>\n",
       "      <td>14</td>\n",
       "      <td>-1</td>\n",
       "    </tr>\n",
       "    <tr>\n",
       "      <th>4598</th>\n",
       "      <td>1</td>\n",
       "      <td>0.30</td>\n",
       "      <td>0.00</td>\n",
       "      <td>0.30</td>\n",
       "      <td>0.0</td>\n",
       "      <td>0.00</td>\n",
       "      <td>0.00</td>\n",
       "      <td>0.00</td>\n",
       "      <td>0.00</td>\n",
       "      <td>0.00</td>\n",
       "      <td>...</td>\n",
       "      <td>0.102</td>\n",
       "      <td>0.718</td>\n",
       "      <td>0.0</td>\n",
       "      <td>0.000</td>\n",
       "      <td>0.000</td>\n",
       "      <td>0.000</td>\n",
       "      <td>1.404</td>\n",
       "      <td>6</td>\n",
       "      <td>118</td>\n",
       "      <td>-1</td>\n",
       "    </tr>\n",
       "    <tr>\n",
       "      <th>4599</th>\n",
       "      <td>1</td>\n",
       "      <td>0.96</td>\n",
       "      <td>0.00</td>\n",
       "      <td>0.00</td>\n",
       "      <td>0.0</td>\n",
       "      <td>0.32</td>\n",
       "      <td>0.00</td>\n",
       "      <td>0.00</td>\n",
       "      <td>0.00</td>\n",
       "      <td>0.00</td>\n",
       "      <td>...</td>\n",
       "      <td>0.000</td>\n",
       "      <td>0.057</td>\n",
       "      <td>0.0</td>\n",
       "      <td>0.000</td>\n",
       "      <td>0.000</td>\n",
       "      <td>0.000</td>\n",
       "      <td>1.147</td>\n",
       "      <td>5</td>\n",
       "      <td>78</td>\n",
       "      <td>-1</td>\n",
       "    </tr>\n",
       "    <tr>\n",
       "      <th>4600</th>\n",
       "      <td>1</td>\n",
       "      <td>0.00</td>\n",
       "      <td>0.00</td>\n",
       "      <td>0.65</td>\n",
       "      <td>0.0</td>\n",
       "      <td>0.00</td>\n",
       "      <td>0.00</td>\n",
       "      <td>0.00</td>\n",
       "      <td>0.00</td>\n",
       "      <td>0.00</td>\n",
       "      <td>...</td>\n",
       "      <td>0.000</td>\n",
       "      <td>0.000</td>\n",
       "      <td>0.0</td>\n",
       "      <td>0.125</td>\n",
       "      <td>0.000</td>\n",
       "      <td>0.000</td>\n",
       "      <td>1.250</td>\n",
       "      <td>5</td>\n",
       "      <td>40</td>\n",
       "      <td>-1</td>\n",
       "    </tr>\n",
       "  </tbody>\n",
       "</table>\n",
       "<p>4601 rows × 59 columns</p>\n",
       "</div>"
      ],
      "text/plain": [
       "      intercept  word_freq_make  word_freq_address  word_freq_all  \\\n",
       "0             1            0.00               0.64           0.64   \n",
       "1             1            0.21               0.28           0.50   \n",
       "2             1            0.06               0.00           0.71   \n",
       "3             1            0.00               0.00           0.00   \n",
       "4             1            0.00               0.00           0.00   \n",
       "...         ...             ...                ...            ...   \n",
       "4596          1            0.31               0.00           0.62   \n",
       "4597          1            0.00               0.00           0.00   \n",
       "4598          1            0.30               0.00           0.30   \n",
       "4599          1            0.96               0.00           0.00   \n",
       "4600          1            0.00               0.00           0.65   \n",
       "\n",
       "      word_freq_3d  word_freq_our  word_freq_over  word_freq_remove  \\\n",
       "0              0.0           0.32            0.00              0.00   \n",
       "1              0.0           0.14            0.28              0.21   \n",
       "2              0.0           1.23            0.19              0.19   \n",
       "3              0.0           0.63            0.00              0.31   \n",
       "4              0.0           0.63            0.00              0.31   \n",
       "...            ...            ...             ...               ...   \n",
       "4596           0.0           0.00            0.31              0.00   \n",
       "4597           0.0           0.00            0.00              0.00   \n",
       "4598           0.0           0.00            0.00              0.00   \n",
       "4599           0.0           0.32            0.00              0.00   \n",
       "4600           0.0           0.00            0.00              0.00   \n",
       "\n",
       "      word_freq_internet  word_freq_order  ...  char_freq_;  char_freq_(  \\\n",
       "0                   0.00             0.00  ...        0.000        0.000   \n",
       "1                   0.07             0.00  ...        0.000        0.132   \n",
       "2                   0.12             0.64  ...        0.010        0.143   \n",
       "3                   0.63             0.31  ...        0.000        0.137   \n",
       "4                   0.63             0.31  ...        0.000        0.135   \n",
       "...                  ...              ...  ...          ...          ...   \n",
       "4596                0.00             0.00  ...        0.000        0.232   \n",
       "4597                0.00             0.00  ...        0.000        0.000   \n",
       "4598                0.00             0.00  ...        0.102        0.718   \n",
       "4599                0.00             0.00  ...        0.000        0.057   \n",
       "4600                0.00             0.00  ...        0.000        0.000   \n",
       "\n",
       "      char_freq_[  char_freq_!  char_freq_$  char_freq_#  \\\n",
       "0             0.0        0.778        0.000        0.000   \n",
       "1             0.0        0.372        0.180        0.048   \n",
       "2             0.0        0.276        0.184        0.010   \n",
       "3             0.0        0.137        0.000        0.000   \n",
       "4             0.0        0.135        0.000        0.000   \n",
       "...           ...          ...          ...          ...   \n",
       "4596          0.0        0.000        0.000        0.000   \n",
       "4597          0.0        0.353        0.000        0.000   \n",
       "4598          0.0        0.000        0.000        0.000   \n",
       "4599          0.0        0.000        0.000        0.000   \n",
       "4600          0.0        0.125        0.000        0.000   \n",
       "\n",
       "      capital_run_length_average  capital_run_length_longest  \\\n",
       "0                          3.756                          61   \n",
       "1                          5.114                         101   \n",
       "2                          9.821                         485   \n",
       "3                          3.537                          40   \n",
       "4                          3.537                          40   \n",
       "...                          ...                         ...   \n",
       "4596                       1.142                           3   \n",
       "4597                       1.555                           4   \n",
       "4598                       1.404                           6   \n",
       "4599                       1.147                           5   \n",
       "4600                       1.250                           5   \n",
       "\n",
       "      capital_run_length_total  class  \n",
       "0                          278      1  \n",
       "1                         1028      1  \n",
       "2                         2259      1  \n",
       "3                          191      1  \n",
       "4                          191      1  \n",
       "...                        ...    ...  \n",
       "4596                        88     -1  \n",
       "4597                        14     -1  \n",
       "4598                       118     -1  \n",
       "4599                        78     -1  \n",
       "4600                        40     -1  \n",
       "\n",
       "[4601 rows x 59 columns]"
      ]
     },
     "execution_count": 3,
     "metadata": {},
     "output_type": "execute_result"
    }
   ],
   "source": [
    "f = open(\"data/spambase.columns\", \"r\")\n",
    "headers = [line.split(\":\")[0] for line in f]+[\"class\"]\n",
    "\n",
    "df = pd.read_csv(\"data/spambase.data\", header=None) \n",
    "df.columns = headers\n",
    "df.insert(0, \"intercept\", 1)\n",
    "df[\"class\"] = df[\"class\"].replace(0,-1)\n",
    "\n",
    "df"
   ]
  },
  {
   "cell_type": "code",
   "execution_count": 4,
   "id": "8499df2f-84a2-4c51-a222-0ab8b17c6fcf",
   "metadata": {},
   "outputs": [],
   "source": [
    "# Compute X by multiplying each row by the class\n",
    "X = np.array(df.drop('class', axis=1)) * np.array(df[\"class\"]).reshape(-1,1)"
   ]
  },
  {
   "cell_type": "code",
   "execution_count": 5,
   "id": "7ce9073f-d1a5-4a29-97b3-e1290a5ad0c1",
   "metadata": {},
   "outputs": [
    {
     "data": {
      "text/plain": [
       "(4601, 58)"
      ]
     },
     "execution_count": 5,
     "metadata": {},
     "output_type": "execute_result"
    }
   ],
   "source": [
    "# Number of samples and of dimensions\n",
    "n, k = X.shape\n",
    "n, k"
   ]
  },
  {
   "cell_type": "code",
   "execution_count": 6,
   "id": "6df49c5f-7b20-4f96-8f4d-fbf8bc3d8493",
   "metadata": {},
   "outputs": [
    {
     "data": {
      "text/plain": [
       "(58, 58)"
      ]
     },
     "execution_count": 6,
     "metadata": {},
     "output_type": "execute_result"
    }
   ],
   "source": [
    "# Compute variance matrix\n",
    "sigma = df.drop('class', axis=1).std(axis=0)\n",
    "sigma[0] = 1\n",
    "sigma2 = np.diag(sigma**2)\n",
    "sigma2_inv = np.diag(1/sigma**2)\n",
    "sigma2_inv.shape"
   ]
  },
  {
   "cell_type": "markdown",
   "id": "c49e1649-3117-4643-999a-665818482972",
   "metadata": {},
   "source": [
    "#### Testing the MCMC $\\alpha=1$ implementation"
   ]
  },
  {
   "cell_type": "code",
   "execution_count": 7,
   "id": "f058e66e-6bc9-4998-9a03-7ce18f51c63b",
   "metadata": {
    "scrolled": true
   },
   "outputs": [
    {
     "name": "stdout",
     "output_type": "stream",
     "text": [
      "End of sampling: 0 lambda coeffs removed\n"
     ]
    }
   ],
   "source": [
    "T = 100\n",
    "nu = 1\n",
    "\n",
    "betas1 = mcmc_l1.sample(X,sigma,rng,nu,T)"
   ]
  },
  {
   "cell_type": "code",
   "execution_count": 8,
   "id": "d60c1627-bf3b-43d1-9312-f3ba60a5ba4f",
   "metadata": {},
   "outputs": [
    {
     "name": "stdout",
     "output_type": "stream",
     "text": [
      "End of sampling: 0 lambda coeffs removed\n"
     ]
    }
   ],
   "source": [
    "T = 100\n",
    "nu = 1e-3\n",
    "\n",
    "betas2 = mcmc_l1.sample(X,sigma,rng,nu,T)"
   ]
  },
  {
   "cell_type": "code",
   "execution_count": 9,
   "id": "f7ae083e",
   "metadata": {},
   "outputs": [
    {
     "data": {
      "image/png": "[encoded data removed]",
      "text/plain": [
       "<Figure size 1152x576 with 1 Axes>"
      ]
     },
     "metadata": {
      "needs_background": "light"
     },
     "output_type": "display_data"
    }
   ],
   "source": [
    "std_betas1 = betas1[20:].mean(axis=0)*sigma\n",
    "std_betas2 = betas2[20:].mean(axis=0)*sigma\n",
    "\n",
    "x = np.arange(k)\n",
    "width = 0.35\n",
    "\n",
    "fig, ax = plt.subplots(figsize=(16, 8))\n",
    "bar1 = ax.bar(x - width / 2, std_betas1, width, label='$ν = 1$', alpha=.7, capsize=2, color=\"cyan\")\n",
    "bar2 = ax.bar(x + width / 2, std_betas2, width, label='$ν = 10^{-3}$', alpha=.7, capsize=2, color=\"orange\")\n",
    "\n",
    "ax.set_xticks(x)\n",
    "ticks = df.columns[:-1]\n",
    "ax.set_xticklabels(ticks, fontsize=8)\n",
    "\n",
    "plt.xticks(rotation=90)\n",
    "#plt.yscale(\"log\")\n",
    "plt.legend()\n",
    "plt.show()"
   ]
  },
  {
   "cell_type": "markdown",
   "id": "71903c57-f350-4629-bd3c-f9eb3190b004",
   "metadata": {},
   "source": [
    "**Observations:**\n",
    "\n",
    "We can see that we recover similar non-zero weights (e.g. for `word_freq_george`) as the `sklearn` implementation for a low number of iterations, which is a basic sanity check to ensure that our implementation is working correctly.  \n",
    "Our study will complement that observation with longer chains.  "
   ]
  },
  {
   "cell_type": "markdown",
   "id": "919a64f5-bbd6-4013-bfba-72f230c69687",
   "metadata": {},
   "source": [
    "#### Testing the MCMC spike-and-slab implementation"
   ]
  },
  {
   "cell_type": "code",
   "execution_count": 10,
   "id": "1c936e4a-1216-4450-9caa-313886da9e0d",
   "metadata": {},
   "outputs": [],
   "source": [
    "pi = .5 * np.ones(k)\n",
    "nu = 100\n",
    "T = 100\n",
    "\n",
    "betas3 = mcmc_sas.sample(X,sigma,rng,nu,pi,T)"
   ]
  },
  {
   "cell_type": "code",
   "execution_count": 11,
   "id": "461043f8-e080-4182-bb2b-947ce867642e",
   "metadata": {},
   "outputs": [],
   "source": [
    "pi = 0.01 * np.ones(k)\n",
    "nu = 100\n",
    "T = 100\n",
    "\n",
    "betas4 = mcmc_sas.sample(X,sigma,rng,nu,pi,T)"
   ]
  },
  {
   "cell_type": "code",
   "execution_count": 12,
   "id": "5c836afe",
   "metadata": {},
   "outputs": [
    {
     "data": {
      "image/png": "[encoded data removed]",
      "text/plain": [
       "<Figure size 1152x576 with 1 Axes>"
      ]
     },
     "metadata": {
      "needs_background": "light"
     },
     "output_type": "display_data"
    }
   ],
   "source": [
    "std_betas3 = betas3[20:].mean(axis=0)*sigma\n",
    "std_betas4 = betas4[20:].mean(axis=0)*sigma\n",
    "\n",
    "x = np.arange(k)\n",
    "width = 0.35\n",
    "\n",
    "fig, ax = plt.subplots(figsize=(16, 8))\n",
    "bar1 = ax.bar(x - width / 2, std_betas3, width, label='$\\pi = 0.5$', alpha=.7, capsize=2, color=\"cyan\")\n",
    "bar2 = ax.bar(x + width / 2, std_betas4, width, label='$\\pi = 0.01$', alpha=.7, capsize=2, color=\"orange\")\n",
    "\n",
    "ax.set_xticks(x)\n",
    "ticks = df.columns[:-1]\n",
    "ax.set_xticklabels(ticks, fontsize=8)\n",
    "\n",
    "plt.xticks(rotation=90)\n",
    "#plt.yscale(\"log\")\n",
    "plt.legend()\n",
    "plt.show()"
   ]
  },
  {
   "cell_type": "markdown",
   "id": "03fdae0e-e245-4921-8c4e-f5819fe52562",
   "metadata": {},
   "source": [
    "**Observations:**\n",
    "\n",
    "Again, we get similar non-zero weights (e.g. for `word_freq_george`) as the `sklearn` implementation for a low number of iterations.  \n",
    "We have quite surprising results for $\\pi=0.01$ but we will investigate that issue with longer chains."
   ]
  },
  {
   "cell_type": "code",
   "execution_count": 13,
   "id": "a5fa16cb-0980-457c-aa47-55c1cccff319",
   "metadata": {},
   "outputs": [
    {
     "name": "stdout",
     "output_type": "stream",
     "text": [
      "Number of non-zero weights for pi=0.5: (27,)\n"
     ]
    }
   ],
   "source": [
    "print(\"Number of non-zero weights for pi=0.5: {}\".format(std_betas3[std_betas3 != 0].shape))"
   ]
  },
  {
   "cell_type": "code",
   "execution_count": 14,
   "id": "fba77020-af46-4f23-b0bf-3bc57bf928fd",
   "metadata": {},
   "outputs": [
    {
     "name": "stdout",
     "output_type": "stream",
     "text": [
      "Number of non-zero weights for pi=0.01: (1,)\n"
     ]
    }
   ],
   "source": [
    "print(\"Number of non-zero weights for pi=0.01: {}\".format(std_betas4[std_betas4 != 0].shape))"
   ]
  }
 ],
 "metadata": {
  "kernelspec": {
   "display_name": "Python 3 (ipykernel)",
   "language": "python",
   "name": "python3"
  },
  "language_info": {
   "codemirror_mode": {
    "name": "ipython",
    "version": 3
   },
   "file_extension": ".py",
   "mimetype": "text/x-python",
   "name": "python",
   "nbconvert_exporter": "python",
   "pygments_lexer": "ipython3",
   "version": "3.8.12"
  }
 },
 "nbformat": 4,
 "nbformat_minor": 5
}
